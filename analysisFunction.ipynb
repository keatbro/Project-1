{
 "cells": [
  {
   "cell_type": "code",
   "execution_count": 104,
   "metadata": {},
   "outputs": [],
   "source": [
    "# Import dependencies\n",
    "from scipy.stats import linregress\n",
    "from scipy.stats import pearsonr\n",
    "from matplotlib import pyplot\n",
    "import pandas as pd\n",
    "import re"
   ]
  },
  {
   "cell_type": "code",
   "execution_count": 57,
   "metadata": {},
   "outputs": [],
   "source": [
    "# Read data into dataframe\n",
    "df = pd.read_csv('Resources/data.csv')\n",
    "\n",
    "df = df.rename(columns = {\n",
    "    '% of population with low access' : 'lowAccess',\n",
    "    '2015 Population Estimate' : 'population',\n",
    "    'Median Household Income 2015' : 'medInc',\n",
    "    \"% of adults with a bachelor's degree or higher, 2013-17\": 'bachelors'\n",
    "})"
   ]
  },
  {
   "cell_type": "code",
   "execution_count": 67,
   "metadata": {},
   "outputs": [
    {
     "name": "stdout",
     "output_type": "stream",
     "text": [
      "What state would you like to analyze? Please enter the two-digit state code.co\n",
      "Great! Let's analyze CO.\n"
     ]
    }
   ],
   "source": [
    "# Get user input to determine which state to analyze\n",
    "state = input('What state would you like to analyze? Please enter the two-digit state code.')\n",
    "\n",
    "state = state.upper()\n",
    "\n",
    "# Check if input is two alphabetic characters\n",
    "if len(state) != 2:\n",
    "    print('Error! You must enter a two digit state code.')\n",
    "elif not state.isalpha():\n",
    "    print (\"Error! Only letters a-z allowed!\")\n",
    "else:\n",
    "    print(f\"Great! Let's analyze {state}.\")"
   ]
  },
  {
   "cell_type": "code",
   "execution_count": 59,
   "metadata": {},
   "outputs": [
    {
     "data": {
      "text/html": [
       "<div>\n",
       "<style scoped>\n",
       "    .dataframe tbody tr th:only-of-type {\n",
       "        vertical-align: middle;\n",
       "    }\n",
       "\n",
       "    .dataframe tbody tr th {\n",
       "        vertical-align: top;\n",
       "    }\n",
       "\n",
       "    .dataframe thead th {\n",
       "        text-align: right;\n",
       "    }\n",
       "</style>\n",
       "<table border=\"1\" class=\"dataframe\">\n",
       "  <thead>\n",
       "    <tr style=\"text-align: right;\">\n",
       "      <th></th>\n",
       "      <th>Unnamed: 0</th>\n",
       "      <th>FIPS</th>\n",
       "      <th>State</th>\n",
       "      <th>County</th>\n",
       "      <th>population</th>\n",
       "      <th>Population with low access</th>\n",
       "      <th>lowAccess</th>\n",
       "      <th>medInc</th>\n",
       "      <th>Less than a high school diploma, 2013-17</th>\n",
       "      <th>High school diploma only, 2013-17</th>\n",
       "      <th>Some college or associate's degree, 2013-17</th>\n",
       "      <th>Bachelor's degree or higher, 2013-17</th>\n",
       "      <th>% of adults with less than a high school diploma, 2013-17</th>\n",
       "      <th>% of adults with a high school diploma only, 2013-17</th>\n",
       "      <th>% of adults completing some college or associate's degree, 2013-17</th>\n",
       "      <th>bachelors</th>\n",
       "    </tr>\n",
       "  </thead>\n",
       "  <tbody>\n",
       "    <tr>\n",
       "      <th>243</th>\n",
       "      <td>243</td>\n",
       "      <td>8001</td>\n",
       "      <td>CO</td>\n",
       "      <td>Adams</td>\n",
       "      <td>490768</td>\n",
       "      <td>66895.714251</td>\n",
       "      <td>13.630822</td>\n",
       "      <td>62991.0</td>\n",
       "      <td>54006.0</td>\n",
       "      <td>87917.0</td>\n",
       "      <td>97054.0</td>\n",
       "      <td>71613.0</td>\n",
       "      <td>17.4</td>\n",
       "      <td>28.3</td>\n",
       "      <td>31.2</td>\n",
       "      <td>23.1</td>\n",
       "    </tr>\n",
       "    <tr>\n",
       "      <th>244</th>\n",
       "      <td>244</td>\n",
       "      <td>8003</td>\n",
       "      <td>CO</td>\n",
       "      <td>Alamosa</td>\n",
       "      <td>16314</td>\n",
       "      <td>915.186239</td>\n",
       "      <td>5.609821</td>\n",
       "      <td>40067.0</td>\n",
       "      <td>1588.0</td>\n",
       "      <td>2367.0</td>\n",
       "      <td>2987.0</td>\n",
       "      <td>2469.0</td>\n",
       "      <td>16.9</td>\n",
       "      <td>25.2</td>\n",
       "      <td>31.7</td>\n",
       "      <td>26.2</td>\n",
       "    </tr>\n",
       "    <tr>\n",
       "      <th>245</th>\n",
       "      <td>245</td>\n",
       "      <td>8005</td>\n",
       "      <td>CO</td>\n",
       "      <td>Arapahoe</td>\n",
       "      <td>630637</td>\n",
       "      <td>69481.673398</td>\n",
       "      <td>11.017697</td>\n",
       "      <td>67062.0</td>\n",
       "      <td>32522.0</td>\n",
       "      <td>87155.0</td>\n",
       "      <td>126608.0</td>\n",
       "      <td>175266.0</td>\n",
       "      <td>7.7</td>\n",
       "      <td>20.7</td>\n",
       "      <td>30.0</td>\n",
       "      <td>41.6</td>\n",
       "    </tr>\n",
       "    <tr>\n",
       "      <th>246</th>\n",
       "      <td>246</td>\n",
       "      <td>8007</td>\n",
       "      <td>CO</td>\n",
       "      <td>Archuleta</td>\n",
       "      <td>12393</td>\n",
       "      <td>3600.901552</td>\n",
       "      <td>29.055931</td>\n",
       "      <td>50361.0</td>\n",
       "      <td>902.0</td>\n",
       "      <td>2210.0</td>\n",
       "      <td>2869.0</td>\n",
       "      <td>3508.0</td>\n",
       "      <td>9.5</td>\n",
       "      <td>23.3</td>\n",
       "      <td>30.2</td>\n",
       "      <td>37.0</td>\n",
       "    </tr>\n",
       "    <tr>\n",
       "      <th>247</th>\n",
       "      <td>247</td>\n",
       "      <td>8009</td>\n",
       "      <td>CO</td>\n",
       "      <td>Baca</td>\n",
       "      <td>3553</td>\n",
       "      <td>955.224505</td>\n",
       "      <td>26.885013</td>\n",
       "      <td>35405.0</td>\n",
       "      <td>379.0</td>\n",
       "      <td>695.0</td>\n",
       "      <td>976.0</td>\n",
       "      <td>558.0</td>\n",
       "      <td>14.5</td>\n",
       "      <td>26.6</td>\n",
       "      <td>37.4</td>\n",
       "      <td>21.4</td>\n",
       "    </tr>\n",
       "  </tbody>\n",
       "</table>\n",
       "</div>"
      ],
      "text/plain": [
       "     Unnamed: 0  FIPS State     County  population  \\\n",
       "243         243  8001    CO      Adams      490768   \n",
       "244         244  8003    CO    Alamosa       16314   \n",
       "245         245  8005    CO   Arapahoe      630637   \n",
       "246         246  8007    CO  Archuleta       12393   \n",
       "247         247  8009    CO       Baca        3553   \n",
       "\n",
       "     Population with low access  lowAccess   medInc  \\\n",
       "243                66895.714251  13.630822  62991.0   \n",
       "244                  915.186239   5.609821  40067.0   \n",
       "245                69481.673398  11.017697  67062.0   \n",
       "246                 3600.901552  29.055931  50361.0   \n",
       "247                  955.224505  26.885013  35405.0   \n",
       "\n",
       "     Less than a high school diploma, 2013-17  \\\n",
       "243                                   54006.0   \n",
       "244                                    1588.0   \n",
       "245                                   32522.0   \n",
       "246                                     902.0   \n",
       "247                                     379.0   \n",
       "\n",
       "     High school diploma only, 2013-17  \\\n",
       "243                            87917.0   \n",
       "244                             2367.0   \n",
       "245                            87155.0   \n",
       "246                             2210.0   \n",
       "247                              695.0   \n",
       "\n",
       "     Some college or associate's degree, 2013-17  \\\n",
       "243                                      97054.0   \n",
       "244                                       2987.0   \n",
       "245                                     126608.0   \n",
       "246                                       2869.0   \n",
       "247                                        976.0   \n",
       "\n",
       "     Bachelor's degree or higher, 2013-17  \\\n",
       "243                               71613.0   \n",
       "244                                2469.0   \n",
       "245                              175266.0   \n",
       "246                                3508.0   \n",
       "247                                 558.0   \n",
       "\n",
       "     % of adults with less than a high school diploma, 2013-17  \\\n",
       "243                                               17.4           \n",
       "244                                               16.9           \n",
       "245                                                7.7           \n",
       "246                                                9.5           \n",
       "247                                               14.5           \n",
       "\n",
       "     % of adults with a high school diploma only, 2013-17  \\\n",
       "243                                               28.3      \n",
       "244                                               25.2      \n",
       "245                                               20.7      \n",
       "246                                               23.3      \n",
       "247                                               26.6      \n",
       "\n",
       "     % of adults completing some college or associate's degree, 2013-17  \\\n",
       "243                                               31.2                    \n",
       "244                                               31.7                    \n",
       "245                                               30.0                    \n",
       "246                                               30.2                    \n",
       "247                                               37.4                    \n",
       "\n",
       "     bachelors  \n",
       "243       23.1  \n",
       "244       26.2  \n",
       "245       41.6  \n",
       "246       37.0  \n",
       "247       21.4  "
      ]
     },
     "execution_count": 59,
     "metadata": {},
     "output_type": "execute_result"
    }
   ],
   "source": [
    "# Use input to filter dataframe to specified state\n",
    "df2 = df[df['State'] == state]"
   ]
  },
  {
   "cell_type": "code",
   "execution_count": 65,
   "metadata": {
    "scrolled": true
   },
   "outputs": [
    {
     "name": "stdout",
     "output_type": "stream",
     "text": [
      "Here are the summary statistics of for COO.\n",
      "-----------------------------------------------------------\n",
      "The average % of people with low access to food in COO is 24%.\n",
      "The median income in COO is $53811.\n",
      "The average % of people with a bachelor degree or higher in COO is 31%.\n",
      "The total estimated population in COO is 5452107.\n"
     ]
    }
   ],
   "source": [
    "# Print summary statistics\n",
    "\n",
    "print(f'Here are the summary statistics of for {state}.')\n",
    "print('-----------------------------------------------------------')\n",
    "print(f'The average % of people with low access to food in {state} is {round(df2[\"lowAccess\"].mean())}%.')\n",
    "print(f'The median income in {state} is ${round(df2[\"medInc\"].mean())}.')\n",
    "print(f'The average % of people with a bachelor degree or higher in {state} is {round(df2[\"bachelors\"].mean())}%.')\n",
    "print(f'The total estimated population in {state} is {df2[\"population\"].sum()}.')"
   ]
  },
  {
   "cell_type": "code",
   "execution_count": 107,
   "metadata": {},
   "outputs": [
    {
     "name": "stdout",
     "output_type": "stream",
     "text": [
      "The correlation coefficient between Food Access and Population is -0.15293832149846023.\n",
      "The correlation coefficient between Food Access and Median Income is -0.3017701876017065.\n",
      "The correlation coefficient between Food Access and Bachelors Degree Proportion is -0.28483901555030666.\n"
     ]
    },
    {
     "data": {
      "image/png": "[encoded data removed]",
      "text/plain": [
       "<Figure size 432x288 with 1 Axes>"
      ]
     },
     "metadata": {
      "needs_background": "light"
     },
     "output_type": "display_data"
    },
    {
     "data": {
      "image/png": "[encoded data removed]",
      "text/plain": [
       "<Figure size 432x288 with 1 Axes>"
      ]
     },
     "metadata": {
      "needs_background": "light"
     },
     "output_type": "display_data"
    },
    {
     "data": {
      "image/png": "[encoded data removed]",
      "text/plain": [
       "<Figure size 432x288 with 1 Axes>"
      ]
     },
     "metadata": {
      "needs_background": "light"
     },
     "output_type": "display_data"
    }
   ],
   "source": [
    "# Create function calculate correlation and create scatterplot for each dependent variable\n",
    "\n",
    "def analyze(arg):\n",
    "    \n",
    "    # Calculate and print Pearson correlation coefficients for each variable\n",
    "    print(f'The correlation coefficient between Food Access and Population is {pearsonr(df2[\"lowAccess\"],df2[\"population\"])[0]}.')\n",
    "    print(f'The correlation coefficient between Food Access and Median Income is {pearsonr(df2[\"lowAccess\"],df2[\"medInc\"])[0]}.')\n",
    "    print(f'The correlation coefficient between Food Access and Bachelors Degree Proportion is {pearsonr(df2[\"lowAccess\"],df2[\"bachelors\"])[0]}.')\n",
    "    \n",
    "    # Create scatterplot for each variable\n",
    "    access = df2['lowAccess']\n",
    "    \n",
    "    variableDict = {\n",
    "        'Population' : df2['population'],\n",
    "        'Median Income' : df2['medInc'],\n",
    "        'Bachelors Degree' : df2['bachelors']\n",
    "    }\n",
    "    \n",
    "    for key,value in variableDict.items():\n",
    "        # Save plot as figure to iterate through dictionary\n",
    "        pyplot.figure()\n",
    "       \n",
    "        # Create scatterplot for each variable\n",
    "        pyplot.scatter(value, access, edgecolors = 'black')\n",
    "        pyplot.title(f'Food Access vs. {key}')\n",
    "        pyplot.xlabel(key)\n",
    "        pyplot.ylabel('% of People with Low Access to Healthy Food')\n",
    "        pyplot\n",
    "        \n",
    "        # Create regression line for each variable\n",
    "        x_values = value\n",
    "        (slope, intercept, rvalue, pvalue, stderr) = linregress(x_values, access)\n",
    "        regress_values = x_values * slope + intercept\n",
    "        pyplot.plot(x_values,regress_values)\n",
    "    \n",
    "analyze(state)"
   ]
  },
  {
   "cell_type": "code",
   "execution_count": null,
   "metadata": {},
   "outputs": [],
   "source": []
  }
 ],
 "metadata": {
  "kernelspec": {
   "display_name": "Python 3",
   "language": "python",
   "name": "python3"
  },
  "language_info": {
   "codemirror_mode": {
    "name": "ipython",
    "version": 3
   },
   "file_extension": ".py",
   "mimetype": "text/x-python",
   "name": "python",
   "nbconvert_exporter": "python",
   "pygments_lexer": "ipython3",
   "version": "3.6.9"
  }
 },
 "nbformat": 4,
 "nbformat_minor": 2
}
