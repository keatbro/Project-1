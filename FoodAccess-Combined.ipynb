{
 "cells": [
  {
   "cell_type": "markdown",
   "metadata": {},
   "source": [
    "Analysing potential factors that contribute to access to healthy food in 2015."
   ]
  },
  {
   "cell_type": "code",
   "execution_count": 23,
   "metadata": {},
   "outputs": [],
   "source": [
    "## Dependencies\n",
    "from matplotlib import pyplot as plt\n",
    "from scipy import stats\n",
    "import numpy as np\n",
    "import pandas as pd\n",
    "import scipy.stats as st\n",
    "from scipy.stats import linregress"
   ]
  },
  {
   "cell_type": "code",
   "execution_count": 24,
   "metadata": {},
   "outputs": [],
   "source": [
    "# Import the Excel files and read the tabs we need into dataframes.\n",
    "\n",
    "#Food Environment Atlas -  DataDownload\n",
    "xls1 = pd.ExcelFile('DataDownload.xls')\n",
    "\n",
    "#Access df \n",
    "df1 = pd.read_excel(xls1, 'ACCESS')\n",
    "df1 = df1[[\"FIPS\", \"State\", \"County\",\"LACCESS_POP15\",\"PCT_LACCESS_POP15\"]]\n",
    "df1= df1.rename(columns = {'LACCESS_POP15':'Population with low access',\n",
    "                           'PCT_LACCESS_POP15':'Percent of population with low access'})\n",
    "\n",
    "#Income df\n",
    "df2 = pd.read_excel(xls1,'SOCIOECONOMIC')\n",
    "df2 = df2[[\"FIPS\", \"State\", \"County\",\"MEDHHINC15\"]]\n",
    "df2 = df2.rename(columns = {\"MEDHHINC15\" : \"Median Household Income 2015\"})\n",
    "\n",
    "#County Level Data - Education\n",
    "xls2 = pd.ExcelFile('Education.xls')\n",
    "\n",
    "#Education df\n",
    "df3 = pd.read_excel(xls2,skiprows=4)\n",
    "\n",
    "#Trim Education df to include only the columns we need, *2013-17*\n",
    "\n",
    "df3=df3[[\"FIPS Code\",\n",
    "\n",
    "      \"Less than a high school diploma, 2013-17\",\n",
    "      \"High school diploma only, 2013-17\",\n",
    "      \"Some college or associate's degree, 2013-17\",\n",
    "      \"Bachelor's degree or higher, 2013-17\",\n",
    "      \"Percent of adults with less than a high school diploma, 2013-17\",\n",
    "      \"Percent of adults with a high school diploma only, 2013-17\",\n",
    "      \"Percent of adults completing some college or associate's degree, 2013-17\",\n",
    "      \"Percent of adults with a bachelor's degree or higher, 2013-17\"\n",
    "     ]]\n",
    "df3= df3.rename(columns = {\"FIPS Code\":\"FIPS\",\n",
    "                            \"Percent of adults with less than a high school diploma, 2013-17\":\"% of adults with less than a high school diploma, 2013-17\",\n",
    "                            \"Percent of adults with a high school diploma only, 2013-17\":\"% of adults with a high school diploma only, 2013-17\",\n",
    "                            \"Percent of adults completing some college or associate's degree, 2013-17\": \"% of adults completing some college or associate's degree, 2013-17\",\n",
    "                            \"Percent of adults with a bachelor's degree or higher, 2013-17\":\"% of adults with a bachelor's degree or higher, 2013-17\"\n",
    "                          })\n",
    "\n",
    "#County Level Data - PopulationEstimates\n",
    "xls3 = pd.ExcelFile('PopulationEstimates.xls')\n",
    "df4 = pd.read_excel(xls3,'Population Estimates 2010-18',skiprows=2)\n",
    "df4 = df4[['FIPS','POP_ESTIMATE_2015']]\n",
    "df4= df4.rename(columns = {\"POP_ESTIMATE_2015\":\"2015 Population Estimate\"})\n",
    "\n",
    "#.dropna(how='all', axis=1))\n",
    "\n",
    "#df3.head()"
   ]
  },
  {
   "cell_type": "code",
   "execution_count": 25,
   "metadata": {},
   "outputs": [],
   "source": [
    "# Merge Population with Access\n",
    "\n",
    "access_df = df4.merge(df1, on='FIPS')\n",
    "access_df[\"% of population with low access\"]= (access_df[\"Population with low access\"]/access_df[\"2015 Population Estimate\"])*100\n",
    "access_df=access_df[[\"FIPS\", \"State\", \"County\",\"2015 Population Estimate\", \"Population with low access\",\"% of population with low access\"]]\n",
    "\n",
    "#access_df.head()"
   ]
  },
  {
   "cell_type": "code",
   "execution_count": 26,
   "metadata": {},
   "outputs": [],
   "source": [
    "# Merge Access df with Income\n",
    "\n",
    "income_df = access_df.merge(df2)\n",
    "\n",
    "#income_df.head()"
   ]
  },
  {
   "cell_type": "code",
   "execution_count": 27,
   "metadata": {},
   "outputs": [],
   "source": [
    "# Merge Income with Education to have all dataframes merged into one\n",
    "\n",
    "access_data = income_df.merge(df3)\n",
    "\n",
    "#access_data.head()"
   ]
  },
  {
   "cell_type": "code",
   "execution_count": 28,
   "metadata": {},
   "outputs": [
    {
     "data": {
      "text/html": [
       "<div>\n",
       "<style scoped>\n",
       "    .dataframe tbody tr th:only-of-type {\n",
       "        vertical-align: middle;\n",
       "    }\n",
       "\n",
       "    .dataframe tbody tr th {\n",
       "        vertical-align: top;\n",
       "    }\n",
       "\n",
       "    .dataframe thead th {\n",
       "        text-align: right;\n",
       "    }\n",
       "</style>\n",
       "<table border=\"1\" class=\"dataframe\">\n",
       "  <thead>\n",
       "    <tr style=\"text-align: right;\">\n",
       "      <th></th>\n",
       "      <th>FIPS</th>\n",
       "      <th>State</th>\n",
       "      <th>County</th>\n",
       "      <th>2015 Population Estimate</th>\n",
       "      <th>Population with low access</th>\n",
       "      <th>% of population with low access</th>\n",
       "      <th>Median Household Income 2015</th>\n",
       "      <th>Less than a high school diploma, 2013-17</th>\n",
       "      <th>High school diploma only, 2013-17</th>\n",
       "      <th>Some college or associate's degree, 2013-17</th>\n",
       "      <th>Bachelor's degree or higher, 2013-17</th>\n",
       "      <th>% of adults with less than a high school diploma, 2013-17</th>\n",
       "      <th>% of adults with a high school diploma only, 2013-17</th>\n",
       "      <th>% of adults completing some college or associate's degree, 2013-17</th>\n",
       "      <th>% of adults with a bachelor's degree or higher, 2013-17</th>\n",
       "    </tr>\n",
       "  </thead>\n",
       "  <tbody>\n",
       "    <tr>\n",
       "      <td>243</td>\n",
       "      <td>8001</td>\n",
       "      <td>CO</td>\n",
       "      <td>Adams</td>\n",
       "      <td>490768</td>\n",
       "      <td>66895.714251</td>\n",
       "      <td>13.630822</td>\n",
       "      <td>62991.0</td>\n",
       "      <td>54006.0</td>\n",
       "      <td>87917.0</td>\n",
       "      <td>97054.0</td>\n",
       "      <td>71613.0</td>\n",
       "      <td>17.4</td>\n",
       "      <td>28.3</td>\n",
       "      <td>31.2</td>\n",
       "      <td>23.1</td>\n",
       "    </tr>\n",
       "    <tr>\n",
       "      <td>244</td>\n",
       "      <td>8003</td>\n",
       "      <td>CO</td>\n",
       "      <td>Alamosa</td>\n",
       "      <td>16314</td>\n",
       "      <td>915.186239</td>\n",
       "      <td>5.609821</td>\n",
       "      <td>40067.0</td>\n",
       "      <td>1588.0</td>\n",
       "      <td>2367.0</td>\n",
       "      <td>2987.0</td>\n",
       "      <td>2469.0</td>\n",
       "      <td>16.9</td>\n",
       "      <td>25.2</td>\n",
       "      <td>31.7</td>\n",
       "      <td>26.2</td>\n",
       "    </tr>\n",
       "    <tr>\n",
       "      <td>245</td>\n",
       "      <td>8005</td>\n",
       "      <td>CO</td>\n",
       "      <td>Arapahoe</td>\n",
       "      <td>630637</td>\n",
       "      <td>69481.673398</td>\n",
       "      <td>11.017697</td>\n",
       "      <td>67062.0</td>\n",
       "      <td>32522.0</td>\n",
       "      <td>87155.0</td>\n",
       "      <td>126608.0</td>\n",
       "      <td>175266.0</td>\n",
       "      <td>7.7</td>\n",
       "      <td>20.7</td>\n",
       "      <td>30.0</td>\n",
       "      <td>41.6</td>\n",
       "    </tr>\n",
       "    <tr>\n",
       "      <td>246</td>\n",
       "      <td>8007</td>\n",
       "      <td>CO</td>\n",
       "      <td>Archuleta</td>\n",
       "      <td>12393</td>\n",
       "      <td>3600.901552</td>\n",
       "      <td>29.055931</td>\n",
       "      <td>50361.0</td>\n",
       "      <td>902.0</td>\n",
       "      <td>2210.0</td>\n",
       "      <td>2869.0</td>\n",
       "      <td>3508.0</td>\n",
       "      <td>9.5</td>\n",
       "      <td>23.3</td>\n",
       "      <td>30.2</td>\n",
       "      <td>37.0</td>\n",
       "    </tr>\n",
       "    <tr>\n",
       "      <td>247</td>\n",
       "      <td>8009</td>\n",
       "      <td>CO</td>\n",
       "      <td>Baca</td>\n",
       "      <td>3553</td>\n",
       "      <td>955.224505</td>\n",
       "      <td>26.885013</td>\n",
       "      <td>35405.0</td>\n",
       "      <td>379.0</td>\n",
       "      <td>695.0</td>\n",
       "      <td>976.0</td>\n",
       "      <td>558.0</td>\n",
       "      <td>14.5</td>\n",
       "      <td>26.6</td>\n",
       "      <td>37.4</td>\n",
       "      <td>21.4</td>\n",
       "    </tr>\n",
       "  </tbody>\n",
       "</table>\n",
       "</div>"
      ],
      "text/plain": [
       "     FIPS State     County  2015 Population Estimate  \\\n",
       "243  8001    CO      Adams                    490768   \n",
       "244  8003    CO    Alamosa                     16314   \n",
       "245  8005    CO   Arapahoe                    630637   \n",
       "246  8007    CO  Archuleta                     12393   \n",
       "247  8009    CO       Baca                      3553   \n",
       "\n",
       "     Population with low access  % of population with low access  \\\n",
       "243                66895.714251                        13.630822   \n",
       "244                  915.186239                         5.609821   \n",
       "245                69481.673398                        11.017697   \n",
       "246                 3600.901552                        29.055931   \n",
       "247                  955.224505                        26.885013   \n",
       "\n",
       "     Median Household Income 2015  Less than a high school diploma, 2013-17  \\\n",
       "243                       62991.0                                   54006.0   \n",
       "244                       40067.0                                    1588.0   \n",
       "245                       67062.0                                   32522.0   \n",
       "246                       50361.0                                     902.0   \n",
       "247                       35405.0                                     379.0   \n",
       "\n",
       "     High school diploma only, 2013-17  \\\n",
       "243                            87917.0   \n",
       "244                             2367.0   \n",
       "245                            87155.0   \n",
       "246                             2210.0   \n",
       "247                              695.0   \n",
       "\n",
       "     Some college or associate's degree, 2013-17  \\\n",
       "243                                      97054.0   \n",
       "244                                       2987.0   \n",
       "245                                     126608.0   \n",
       "246                                       2869.0   \n",
       "247                                        976.0   \n",
       "\n",
       "     Bachelor's degree or higher, 2013-17  \\\n",
       "243                               71613.0   \n",
       "244                                2469.0   \n",
       "245                              175266.0   \n",
       "246                                3508.0   \n",
       "247                                 558.0   \n",
       "\n",
       "     % of adults with less than a high school diploma, 2013-17  \\\n",
       "243                                               17.4           \n",
       "244                                               16.9           \n",
       "245                                                7.7           \n",
       "246                                                9.5           \n",
       "247                                               14.5           \n",
       "\n",
       "     % of adults with a high school diploma only, 2013-17  \\\n",
       "243                                               28.3      \n",
       "244                                               25.2      \n",
       "245                                               20.7      \n",
       "246                                               23.3      \n",
       "247                                               26.6      \n",
       "\n",
       "     % of adults completing some college or associate's degree, 2013-17  \\\n",
       "243                                               31.2                    \n",
       "244                                               31.7                    \n",
       "245                                               30.0                    \n",
       "246                                               30.2                    \n",
       "247                                               37.4                    \n",
       "\n",
       "     % of adults with a bachelor's degree or higher, 2013-17  \n",
       "243                                               23.1        \n",
       "244                                               26.2        \n",
       "245                                               41.6        \n",
       "246                                               37.0        \n",
       "247                                               21.4        "
      ]
     },
     "execution_count": 28,
     "metadata": {},
     "output_type": "execute_result"
    }
   ],
   "source": [
    "# Extract Colorado data in it's on dataframe\n",
    "\n",
    "CO_data=access_data[access_data['State'] =='CO']\\\n",
    "\n",
    "CO_data.head()"
   ]
  },
  {
   "cell_type": "code",
   "execution_count": 29,
   "metadata": {},
   "outputs": [],
   "source": [
    "#CO_data=CO_data.rename(columns={\"Median Household Income 2015\": \"Median_Household_Income_2015\", \"% of population with low access\": \"Percent_of_ population_with_low_access\"})\n",
    "#CO_data.head()"
   ]
  },
  {
   "cell_type": "code",
   "execution_count": 30,
   "metadata": {},
   "outputs": [],
   "source": [
    "#<<<<<<<<<<<<<<   Education Levels   >>>>>>>>>>>>>>>>>>"
   ]
  },
  {
   "cell_type": "code",
   "execution_count": 31,
   "metadata": {},
   "outputs": [],
   "source": [
    "percent_low_access = CO_data['% of population with low access']\n",
    "percent_less_than_hs = CO_data['% of adults with less than a high school diploma, 2013-17']\n",
    "percent_hs = CO_data['% of adults with a high school diploma only, 2013-17']\n",
    "percent_some_secondary_education = CO_data['% of adults completing some college or associate\\'s degree, 2013-17']\n",
    "percent_bachelor_or_higher = CO_data['% of adults with a bachelor\\'s degree or higher, 2013-17']\n"
   ]
  },
  {
   "cell_type": "code",
   "execution_count": 32,
   "metadata": {},
   "outputs": [
    {
     "name": "stdout",
     "output_type": "stream",
     "text": [
      "The correlation between both factors is 0.03\n"
     ]
    },
    {
     "data": {
      "image/png": "[encoded data removed]",
      "text/plain": [
       "<Figure size 432x288 with 1 Axes>"
      ]
     },
     "metadata": {
      "needs_background": "light"
     },
     "output_type": "display_data"
    }
   ],
   "source": [
    "# Less Than High School\n",
    "x_values =percent_less_than_hs \n",
    "y_values =percent_low_access\n",
    "(slope, intercept, rvalue, pvalue, stderr) = linregress(x_values, y_values)\n",
    "regress_values = x_values * slope + intercept\n",
    "line_eq = \"y = \" + str(round(slope,2)) + \"x + \" + str(round(intercept,2))\n",
    "plt.scatter(x_values, y_values)\n",
    "plt.plot(x_values,regress_values,\"r-\")\n",
    "plt.xlabel('% of Adults With Less Than a High School Diploma') \n",
    "plt.ylabel('% of Population With Low Access')\n",
    "correlation = st.pearsonr(x_values,y_values)\n",
    "print(f\"The correlation between both factors is {round(correlation[0],2)}\")\n",
    "plt.annotate(line_eq,(6,10),fontsize=15,color=\"red\")\n",
    "plt.savefig('Adults With Less Than HS Diploma vs. % Population With Low Access.png')\n",
    "plt.show()\n"
   ]
  },
  {
   "cell_type": "code",
   "execution_count": 33,
   "metadata": {},
   "outputs": [
    {
     "name": "stdout",
     "output_type": "stream",
     "text": [
      "The correlation between both factors is 0.33\n"
     ]
    },
    {
     "data": {
      "image/png": "[encoded data removed]",
      "text/plain": [
       "<Figure size 432x288 with 1 Axes>"
      ]
     },
     "metadata": {
      "needs_background": "light"
     },
     "output_type": "display_data"
    }
   ],
   "source": [
    "# High School\n",
    "x_values =percent_hs\n",
    "y_values =percent_low_access\n",
    "(slope, intercept, rvalue, pvalue, stderr) = linregress(x_values, y_values)\n",
    "regress_values = x_values * slope + intercept\n",
    "line_eq = \"y = \" + str(round(slope,2)) + \"x + \" + str(round(intercept,2))\n",
    "plt.scatter(x_values, y_values)\n",
    "plt.plot(x_values,regress_values,\"r-\")\n",
    "plt.xlabel('% of Adults With a High School Diploma') \n",
    "plt.ylabel('% of Population With Low Access')\n",
    "correlation = st.pearsonr(x_values,y_values)\n",
    "print(f\"The correlation between both factors is {round(correlation[0],2)}\")\n",
    "plt.annotate(line_eq,(6,10),fontsize=15,color=\"red\")\n",
    "plt.savefig('Adults With HS Diploma vs. % Population With Low Access.png')\n",
    "plt.show()\n"
   ]
  },
  {
   "cell_type": "code",
   "execution_count": 34,
   "metadata": {},
   "outputs": [
    {
     "name": "stdout",
     "output_type": "stream",
     "text": [
      "The correlation between both factors is 0.18\n"
     ]
    },
    {
     "data": {
      "image/png": "[encoded data removed]",
      "text/plain": [
       "<Figure size 432x288 with 1 Axes>"
      ]
     },
     "metadata": {
      "needs_background": "light"
     },
     "output_type": "display_data"
    }
   ],
   "source": [
    "# Some Secondary Education\n",
    "x_values =percent_some_secondary_education \n",
    "y_values =percent_low_access\n",
    "(slope, intercept, rvalue, pvalue, stderr) = linregress(x_values, y_values)\n",
    "regress_values = x_values * slope + intercept\n",
    "line_eq = \"y = \" + str(round(slope,2)) + \"x + \" + str(round(intercept,2))\n",
    "plt.scatter(x_values, y_values)\n",
    "plt.plot(x_values,regress_values,\"r-\")\n",
    "plt.xlabel('% of Adults With Some College or an Associate\\'s Degree') \n",
    "plt.ylabel('% of Population With Low Access')\n",
    "correlation = st.pearsonr(x_values,y_values)\n",
    "print(f\"The correlation between both factors is {round(correlation[0],2)}\")\n",
    "plt.annotate(line_eq,(6,10),fontsize=15,color=\"red\")\n",
    "plt.savefig('Adults With Some College or an Associate\\'s Degree vs. % Population With Low Access.png')\n",
    "plt.show()\n"
   ]
  },
  {
   "cell_type": "code",
   "execution_count": 35,
   "metadata": {},
   "outputs": [
    {
     "name": "stdout",
     "output_type": "stream",
     "text": [
      "The correlation between both factors is -0.28\n"
     ]
    },
    {
     "data": {
      "image/png": "[encoded data removed]",
      "text/plain": [
       "<Figure size 432x288 with 1 Axes>"
      ]
     },
     "metadata": {
      "needs_background": "light"
     },
     "output_type": "display_data"
    }
   ],
   "source": [
    "# Bachelor or Higher\n",
    "x_values =percent_bachelor_or_higher \n",
    "y_values =percent_low_access\n",
    "(slope, intercept, rvalue, pvalue, stderr) = linregress(x_values, y_values)\n",
    "regress_values = x_values * slope + intercept\n",
    "line_eq = \"y = \" + str(round(slope,2)) + \"x + \" + str(round(intercept,2))\n",
    "plt.scatter(x_values, y_values)\n",
    "plt.plot(x_values,regress_values,\"r-\")\n",
    "plt.xlabel('% of Adults With a Bachelor\\'s Degree or Higher') \n",
    "plt.ylabel('% of Population With Low Access')\n",
    "correlation = st.pearsonr(x_values,y_values)\n",
    "print(f\"The correlation between both factors is {round(correlation[0],2)}\")\n",
    "plt.annotate(line_eq,(6,10),fontsize=15,color=\"red\")\n",
    "plt.savefig('Adults With a Bachelor\\'s Degree or Higher vs. % Population With Low Access.png')\n",
    "plt.show()\n"
   ]
  },
  {
   "cell_type": "code",
   "execution_count": 36,
   "metadata": {},
   "outputs": [],
   "source": [
    "#<<<<<<<<<<<<<<   Median_Household_Income_2015   >>>>>>>>>>>>>>>>>>"
   ]
  },
  {
   "cell_type": "code",
   "execution_count": 37,
   "metadata": {},
   "outputs": [
    {
     "name": "stdout",
     "output_type": "stream",
     "text": [
      "The correlation between both factors is -0.3\n"
     ]
    }
   ],
   "source": [
    "# The next example will compute the Pearson correlation coefficient between \"Median_Household_Income_2015\" and \"Percent_of_ population_with_low_access\"\n",
    "Median_Household_Income_2015 = CO_data.iloc[:,6]\n",
    "Percent_of_population_with_low_access = CO_data.iloc[:,5]\n",
    "correlation = st.pearsonr(Median_Household_Income_2015,Percent_of_population_with_low_access)\n",
    "print(f\"The correlation between both factors is {round(correlation[0],2)}\")"
   ]
  },
  {
   "cell_type": "code",
   "execution_count": 38,
   "metadata": {},
   "outputs": [
    {
     "data": {
      "image/png": "[encoded data removed]",
      "text/plain": [
       "<Figure size 432x288 with 1 Axes>"
      ]
     },
     "metadata": {
      "needs_background": "light"
     },
     "output_type": "display_data"
    }
   ],
   "source": [
    "plt.scatter(Median_Household_Income_2015,Percent_of_population_with_low_access)\n",
    "plt.xlabel('Median Household Income 2015')\n",
    "plt.ylabel('% of population with low access')\n",
    "#print(f\"The correlation between both factors is {round(correlation[0],2)}\")\n",
    "\n",
    "plt.show()"
   ]
  },
  {
   "cell_type": "code",
   "execution_count": 39,
   "metadata": {},
   "outputs": [
    {
     "name": "stdout",
     "output_type": "stream",
     "text": [
      "The r-squared is: -0.30177018760170654\n"
     ]
    },
    {
     "data": {
      "image/png": "[encoded data removed]",
      "text/plain": [
       "<Figure size 432x288 with 1 Axes>"
      ]
     },
     "metadata": {
      "needs_background": "light"
     },
     "output_type": "display_data"
    }
   ],
   "source": [
    "x_values = Median_Household_Income_2015 \n",
    "y_values = Percent_of_population_with_low_access\n",
    "#y_values = y_values/100\n",
    "(slope, intercept, rvalue, pvalue, stderr) = linregress(x_values, y_values)\n",
    "regress_values = x_values * slope + intercept\n",
    "line_eq = \"y = \" + str(round(slope,2)) + \"x + \" + str(round(intercept,2))\n",
    "plt.scatter(x_values,y_values)\n",
    "plt.plot(x_values,regress_values,\"r-\")\n",
    "plt.annotate(line_eq,(6,10),fontsize=15,color=\"red\")\n",
    "plt.xlabel('Median Household Income 2015')\n",
    "plt.ylabel('% of population with low access')\n",
    "print(f\"The r-squared is: {rvalue}\")\n",
    "plt.savefig('Median Household Income vs. % Population With Low Access.png')\n",
    "plt.show()"
   ]
  },
  {
   "cell_type": "code",
   "execution_count": 40,
   "metadata": {},
   "outputs": [],
   "source": [
    "#<<<<<<<<<<<<<<   Population Estimate 2015 >>>>>>>>>>>>>>>>>>"
   ]
  },
  {
   "cell_type": "code",
   "execution_count": 41,
   "metadata": {},
   "outputs": [],
   "source": [
    "# Print CO Datafrme for reference in this part of code\n",
    "#CO_data.head()"
   ]
  },
  {
   "cell_type": "code",
   "execution_count": 42,
   "metadata": {},
   "outputs": [
    {
     "name": "stdout",
     "output_type": "stream",
     "text": [
      "The correlation between both factors is -0.15\n"
     ]
    }
   ],
   "source": [
    " # The next example will compute the Pearson correlation coefficient between \"2015 Population Estimate\" and \"Percent_of_ population_with_low_access\"\n",
    "#Median_Household_Income_2015 = CO_data.iloc[:,6]\n",
    "Population_Estimate_2015 = CO_data.iloc[:,3]\n",
    "Percent_of_population_with_low_access = CO_data.iloc[:,5]\n",
    "correlation = st.pearsonr(Population_Estimate_2015,Percent_of_population_with_low_access)\n",
    "print(f\"The correlation between both factors is {round(correlation[0],2)}\")\n"
   ]
  },
  {
   "cell_type": "code",
   "execution_count": 43,
   "metadata": {},
   "outputs": [
    {
     "name": "stdout",
     "output_type": "stream",
     "text": [
      "The correlation between both factors is -0.15\n"
     ]
    },
    {
     "data": {
      "image/png": "[encoded data removed]",
      "text/plain": [
       "<Figure size 432x288 with 1 Axes>"
      ]
     },
     "metadata": {
      "needs_background": "light"
     },
     "output_type": "display_data"
    }
   ],
   "source": [
    "plt.scatter(Population_Estimate_2015,Percent_of_population_with_low_access)\n",
    "plt.xlabel('Population Estimate 2015')\n",
    "plt.ylabel('% of population with low access')\n",
    "print(f\"The correlation between both factors is {round(correlation[0],2)}\")\n",
    "plt.show()"
   ]
  },
  {
   "cell_type": "code",
   "execution_count": 44,
   "metadata": {},
   "outputs": [
    {
     "name": "stdout",
     "output_type": "stream",
     "text": [
      "The r-squared is: -0.15293832149846026\n"
     ]
    },
    {
     "data": {
      "image/png": "[encoded data removed]",
      "text/plain": [
       "<Figure size 432x288 with 1 Axes>"
      ]
     },
     "metadata": {
      "needs_background": "light"
     },
     "output_type": "display_data"
    }
   ],
   "source": [
    "x_values = Population_Estimate_2015 \n",
    "y_values = Percent_of_population_with_low_access\n",
    "#y_values = y_values/100\n",
    "(slope, intercept, rvalue, pvalue, stderr) = linregress(x_values, y_values)\n",
    "regress_values = x_values * slope + intercept\n",
    "line_eq = \"y = \" + str(round(slope,2)) + \"x + \" + str(round(intercept,2))\n",
    "plt.scatter(x_values,y_values)\n",
    "plt.plot(x_values,regress_values,\"r-\")\n",
    "plt.annotate(line_eq,(6,10),fontsize=15,color=\"red\")\n",
    "plt.xlabel('Population Estimate 2015')\n",
    "plt.ylabel('% of population with low access')\n",
    "print(f\"The r-squared is: {rvalue}\")\n",
    "plt.savefig('Population Density vs. % Population With Low Access.png')\n",
    "plt.show()\n"
   ]
  },
  {
   "cell_type": "code",
   "execution_count": 45,
   "metadata": {},
   "outputs": [
    {
     "data": {
      "text/html": [
       "<table class=\"simpletable\">\n",
       "<caption>OLS Regression Results</caption>\n",
       "<tr>\n",
       "  <th>Dep. Variable:</th>         <td>access</td>      <th>  R-squared (uncentered):</th>      <td>   0.443</td>\n",
       "</tr>\n",
       "<tr>\n",
       "  <th>Model:</th>                   <td>OLS</td>       <th>  Adj. R-squared (uncentered):</th> <td>   0.416</td>\n",
       "</tr>\n",
       "<tr>\n",
       "  <th>Method:</th>             <td>Least Squares</td>  <th>  F-statistic:       </th>          <td>   16.17</td>\n",
       "</tr>\n",
       "<tr>\n",
       "  <th>Date:</th>             <td>Thu, 30 Jan 2020</td> <th>  Prob (F-statistic):</th>          <td>7.58e-08</td>\n",
       "</tr>\n",
       "<tr>\n",
       "  <th>Time:</th>                 <td>19:39:09</td>     <th>  Log-Likelihood:    </th>          <td> -296.23</td>\n",
       "</tr>\n",
       "<tr>\n",
       "  <th>No. Observations:</th>      <td>    64</td>      <th>  AIC:               </th>          <td>   598.5</td>\n",
       "</tr>\n",
       "<tr>\n",
       "  <th>Df Residuals:</th>          <td>    61</td>      <th>  BIC:               </th>          <td>   604.9</td>\n",
       "</tr>\n",
       "<tr>\n",
       "  <th>Df Model:</th>              <td>     3</td>      <th>                     </th>              <td> </td>   \n",
       "</tr>\n",
       "<tr>\n",
       "  <th>Covariance Type:</th>      <td>nonrobust</td>    <th>                     </th>              <td> </td>   \n",
       "</tr>\n",
       "</table>\n",
       "<table class=\"simpletable\">\n",
       "<tr>\n",
       "       <td></td>         <th>coef</th>     <th>std err</th>      <th>t</th>      <th>P>|t|</th>  <th>[0.025</th>    <th>0.975]</th>  \n",
       "</tr>\n",
       "<tr>\n",
       "  <th>population</th> <td>-2.266e-05</td> <td> 1.94e-05</td> <td>   -1.166</td> <td> 0.248</td> <td>-6.15e-05</td> <td> 1.62e-05</td>\n",
       "</tr>\n",
       "<tr>\n",
       "  <th>income</th>     <td>    0.0006</td> <td>    0.000</td> <td>    3.002</td> <td> 0.004</td> <td>    0.000</td> <td>    0.001</td>\n",
       "</tr>\n",
       "<tr>\n",
       "  <th>degree</th>     <td>   -0.3377</td> <td>    0.345</td> <td>   -0.979</td> <td> 0.331</td> <td>   -1.027</td> <td>    0.352</td>\n",
       "</tr>\n",
       "</table>\n",
       "<table class=\"simpletable\">\n",
       "<tr>\n",
       "  <th>Omnibus:</th>       <td>41.876</td> <th>  Durbin-Watson:     </th> <td>   2.259</td>\n",
       "</tr>\n",
       "<tr>\n",
       "  <th>Prob(Omnibus):</th> <td> 0.000</td> <th>  Jarque-Bera (JB):  </th> <td> 107.546</td>\n",
       "</tr>\n",
       "<tr>\n",
       "  <th>Skew:</th>          <td> 2.131</td> <th>  Prob(JB):          </th> <td>4.43e-24</td>\n",
       "</tr>\n",
       "<tr>\n",
       "  <th>Kurtosis:</th>      <td> 7.709</td> <th>  Cond. No.          </th> <td>2.11e+04</td>\n",
       "</tr>\n",
       "</table><br/><br/>Warnings:<br/>[1] Standard Errors assume that the covariance matrix of the errors is correctly specified.<br/>[2] The condition number is large, 2.11e+04. This might indicate that there are<br/>strong multicollinearity or other numerical problems."
      ],
      "text/plain": [
       "<class 'statsmodels.iolib.summary.Summary'>\n",
       "\"\"\"\n",
       "                                 OLS Regression Results                                \n",
       "=======================================================================================\n",
       "Dep. Variable:                 access   R-squared (uncentered):                   0.443\n",
       "Model:                            OLS   Adj. R-squared (uncentered):              0.416\n",
       "Method:                 Least Squares   F-statistic:                              16.17\n",
       "Date:                Thu, 30 Jan 2020   Prob (F-statistic):                    7.58e-08\n",
       "Time:                        19:39:09   Log-Likelihood:                         -296.23\n",
       "No. Observations:                  64   AIC:                                      598.5\n",
       "Df Residuals:                      61   BIC:                                      604.9\n",
       "Df Model:                           3                                                  \n",
       "Covariance Type:            nonrobust                                                  \n",
       "==============================================================================\n",
       "                 coef    std err          t      P>|t|      [0.025      0.975]\n",
       "------------------------------------------------------------------------------\n",
       "population -2.266e-05   1.94e-05     -1.166      0.248   -6.15e-05    1.62e-05\n",
       "income         0.0006      0.000      3.002      0.004       0.000       0.001\n",
       "degree        -0.3377      0.345     -0.979      0.331      -1.027       0.352\n",
       "==============================================================================\n",
       "Omnibus:                       41.876   Durbin-Watson:                   2.259\n",
       "Prob(Omnibus):                  0.000   Jarque-Bera (JB):              107.546\n",
       "Skew:                           2.131   Prob(JB):                     4.43e-24\n",
       "Kurtosis:                       7.709   Cond. No.                     2.11e+04\n",
       "==============================================================================\n",
       "\n",
       "Warnings:\n",
       "[1] Standard Errors assume that the covariance matrix of the errors is correctly specified.\n",
       "[2] The condition number is large, 2.11e+04. This might indicate that there are\n",
       "strong multicollinearity or other numerical problems.\n",
       "\"\"\""
      ]
     },
     "execution_count": 45,
     "metadata": {},
     "output_type": "execute_result"
    }
   ],
   "source": [
    "# Multivariate Regression\n",
    "import statsmodels.api as sm\n",
    "\n",
    "df = CO_data[[\"% of population with low access\",\"2015 Population Estimate\", \"Median Household Income 2015\", \"% of adults with a bachelor's degree or higher, 2013-17\"]]\n",
    "df = df.rename(columns = {\n",
    "    '% of population with low access' : 'access',\n",
    "    '2015 Population Estimate' : 'population',\n",
    "    'Median Household Income 2015' : 'income',\n",
    "    \"% of adults with a bachelor's degree or higher, 2013-17\" : 'degree'\n",
    "})\n",
    "\n",
    "x = df[['population','income','degree']]\n",
    "y = df['access']\n",
    "model = sm.OLS(y, x).fit()\n",
    "predictions = model.predict(x)\n",
    "model.summary()\n",
    "\n"
   ]
  }
 ],
 "metadata": {
  "kernelspec": {
   "display_name": "Python 3",
   "language": "python",
   "name": "python3"
  },
  "language_info": {
   "codemirror_mode": {
    "name": "ipython",
    "version": 3
   },
   "file_extension": ".py",
   "mimetype": "text/x-python",
   "name": "python",
   "nbconvert_exporter": "python",
   "pygments_lexer": "ipython3",
   "version": "3.7.4"
  }
 },
 "nbformat": 4,
 "nbformat_minor": 2
}
